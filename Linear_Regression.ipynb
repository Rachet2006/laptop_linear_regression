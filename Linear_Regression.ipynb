{
 "cells": [
  {
   "cell_type": "code",
   "execution_count": null,
   "id": "e3f690a5",
   "metadata": {},
   "outputs": [],
   "source": [
    "import pandas as pd\n",
    "import numpy as np\n",
    "import matplotlib.pyplot as plt\n",
    "import seaborn as sns\n",
    "from sklearn.preprocessing import LabelEncoder\n",
    "from sklearn.metrics import r2_score, mean_absolute_error, mean_squared_error\n",
    "from sklearn.model_selection import train_test_split\n",
    "from sklearn.linear_model import LinearRegression\n"
   ]
  },
  {
   "cell_type": "code",
   "execution_count": null,
   "id": "aa0b1d12",
   "metadata": {},
   "outputs": [],
   "source": [
    "df = pd.read_csv('laptopData.csv')\n",
    "df = df[df.columns[1:]]\n",
    "df"
   ]
  },
  {
   "cell_type": "code",
   "execution_count": null,
   "id": "618db8e9",
   "metadata": {},
   "outputs": [],
   "source": [
    "df.info()"
   ]
  },
  {
   "cell_type": "code",
   "execution_count": null,
   "id": "1b423da8",
   "metadata": {},
   "outputs": [],
   "source": [
    "print(f'Null Values: {df.isna().sum()}')\n",
    "df = df.dropna()\n",
    "print(f'Null Values: {df.isna().sum()}')"
   ]
  },
  {
   "cell_type": "code",
   "execution_count": null,
   "id": "6af3be06",
   "metadata": {},
   "outputs": [],
   "source": [
    "memory = df['Memory'].str.split(' ', expand=True)[[0,1,4,5]].rename(columns={0:'Memory_1', 1:'Memory_Type_1', 4:'Memory_2', 5:'Memory_Type_2'})\n",
    "df = df.join(memory).drop(columns='Memory')\n",
    "df = df.fillna(np.nan)\n",
    "df"
   ]
  },
  {
   "cell_type": "code",
   "execution_count": null,
   "id": "4c6ba123",
   "metadata": {},
   "outputs": [],
   "source": [
    "df['Memory_Size_1'] = np.where(df['Memory_1'].str.endswith('TB'), 1, 0)\n",
    "df['Memory_Size_2'] = np.where(df['Memory_2'].str.endswith('TB'), 1, 0)\n",
    "\n",
    "df['Memory_1'] = df['Memory_1'].str[:-2].replace('', np.nan).astype(float)\n",
    "df['Memory_2'] = df['Memory_2'].str[:-2].replace('', np.nan).astype(float)\n",
    "\n",
    "df.loc[df['Memory_Size_1'] == 1, 'Memory_1'] *= 1000\n",
    "df.loc[df['Memory_Size_2'] == 1, 'Memory_2'] *= 1000\n",
    "\n",
    "df = df.drop(columns=['Memory_Size_1', 'Memory_Size_2'])\n"
   ]
  },
  {
   "cell_type": "code",
   "execution_count": null,
   "id": "c013c4a2",
   "metadata": {},
   "outputs": [],
   "source": [
    "df"
   ]
  },
  {
   "cell_type": "code",
   "execution_count": null,
   "id": "2fa24491",
   "metadata": {},
   "outputs": [],
   "source": [
    "# print(df['Weight'].unique())\n",
    "df['Weight'] = df['Weight'].str[:-2].replace('',np.nan).astype(float)\n",
    "\n",
    "df['Ram'] = df['Ram'].str[:-2].replace('',np.nan).astype(float)\n",
    "\n",
    "# print(df['Inches'].unique())\n",
    "df['Inches'] = df['Inches'].replace('?',np.nan).astype(float)\n",
    "\n",
    "df"
   ]
  },
  {
   "cell_type": "code",
   "execution_count": null,
   "id": "a1d7647d",
   "metadata": {},
   "outputs": [],
   "source": [
    "df['Price'].hist(bins=60)\n",
    "plt.title(\"Price Distribution\")\n",
    "plt.xlabel(\"Price\")\n",
    "plt.ylabel(\"Frequency\")\n",
    "plt.show()"
   ]
  },
  {
   "cell_type": "code",
   "execution_count": null,
   "id": "9cbad2ca",
   "metadata": {},
   "outputs": [],
   "source": [
    "df['Company'].value_counts().plot(kind='bar')\n",
    "plt.title(\"Brand Counts\")\n",
    "plt.ylabel(\"Count\")\n",
    "plt.xticks(rotation=45)\n",
    "plt.show()"
   ]
  },
  {
   "cell_type": "code",
   "execution_count": null,
   "id": "42c970d9",
   "metadata": {},
   "outputs": [],
   "source": [
    "sns.boxplot(y='Price', x='Ram', data=df.sort_values(by='Ram'))"
   ]
  },
  {
   "cell_type": "code",
   "execution_count": null,
   "id": "fa14f426",
   "metadata": {},
   "outputs": [],
   "source": [
    "sns.boxplot(x='Company', y='Price', data=df)\n",
    "plt.xticks(rotation=45)"
   ]
  },
  {
   "cell_type": "code",
   "execution_count": null,
   "id": "4369d5c4",
   "metadata": {},
   "outputs": [],
   "source": [
    "df.groupby('Company')['Price'].mean().sort_values().plot(kind='barh')\n"
   ]
  },
  {
   "cell_type": "code",
   "execution_count": null,
   "id": "3db51bd0",
   "metadata": {},
   "outputs": [],
   "source": [
    "categorical_columns = ['Company','Cpu', 'Gpu', 'OpSys', 'Memory_Type_1', 'Memory_Type_2','ScreenResolution']\n",
    "\n",
    "for column in categorical_columns:\n",
    "    le = LabelEncoder()\n",
    "    df[column] = le.fit_transform(df[column])\n",
    "\n",
    "df"
   ]
  },
  {
   "cell_type": "code",
   "execution_count": null,
   "id": "a3e1cf8e",
   "metadata": {},
   "outputs": [],
   "source": [
    "corr_matrix = df.corr(numeric_only=True)\n",
    "\n",
    "sns.heatmap(corr_matrix, annot=True, cmap='coolwarm')\n",
    "plt.title(\"Correlation Matrix\")\n",
    "plt.show()"
   ]
  },
  {
   "cell_type": "code",
   "execution_count": null,
   "id": "1c3e27a9",
   "metadata": {},
   "outputs": [],
   "source": [
    "df = df.drop(['TypeName','Memory_2','Memory_Type_2','Company'], axis=1)\n"
   ]
  },
  {
   "cell_type": "code",
   "execution_count": null,
   "id": "aabb5f82",
   "metadata": {},
   "outputs": [],
   "source": [
    "df = df.fillna('Unkown')\n",
    "df_encoded = pd.get_dummies(df, drop_first=True)"
   ]
  },
  {
   "cell_type": "code",
   "execution_count": null,
   "id": "7f59053e",
   "metadata": {},
   "outputs": [],
   "source": [
    "X = df_encoded.drop('Price', axis=1)\n",
    "y = df_encoded['Price']\n",
    "\n",
    "\n",
    "X_train, X_test, y_train, y_test = train_test_split(X, y, test_size=0.2, random_state=53)\n",
    "\n",
    "model = LinearRegression()\n",
    "model.fit(X_train, y_train)\n",
    "y_pred = model.predict(X_test)\n",
    "\n",
    "print(f\"R² Score: {r2_score(y_test, y_pred):.4f}\")\n",
    "print(f\"Mean Absolute Error: {mean_absolute_error(y_test, y_pred):,.0f}\")\n",
    "print(f\"Root Mean Squared Error: {np.sqrt(mean_squared_error(y_test, y_pred)):,.0f}\")\n"
   ]
  },
  {
   "cell_type": "code",
   "execution_count": null,
   "id": "fba30b14",
   "metadata": {},
   "outputs": [],
   "source": [
    "plt.figure(figsize=(10, 6))\n",
    "plt.scatter(y_test, y_pred, alpha=0.5)\n",
    "min_val = min(min(y_test), min(y_pred))\n",
    "max_val = max(max(y_test), max(y_pred))\n",
    "plt.plot([min_val, max_val], [min_val, max_val], 'r--', label='Perfect Prediction')\n",
    "plt.xlabel('Actual Price')\n",
    "plt.ylabel('Predicted Price')\n",
    "plt.title('Actual vs Predicted')\n",
    "plt.legend()\n",
    "plt.grid(True)\n",
    "plt.show()"
   ]
  }
 ],
 "metadata": {
  "kernelspec": {
   "display_name": "Python 3",
   "language": "python",
   "name": "python3"
  },
  "language_info": {
   "codemirror_mode": {
    "name": "ipython",
    "version": 3
   },
   "file_extension": ".py",
   "mimetype": "text/x-python",
   "name": "python",
   "nbconvert_exporter": "python",
   "pygments_lexer": "ipython3",
   "version": "3.13.5"
  }
 },
 "nbformat": 4,
 "nbformat_minor": 5
}
